{
  "cells": [
    {
      "cell_type": "markdown",
      "metadata": {
        "id": "XoXoF9Kqbni2"
      },
      "source": [
        "###Constants"
      ]
    },
    {
      "cell_type": "markdown",
      "metadata": {
        "id": "YlKnu2vba5KL"
      },
      "source": [
        "$C_0 = 0.05$</br>\n",
        "$m_l = -81.1$</br>\n",
        "$m_s = -478$</br>\n",
        "$c_p = 820$</br>\n",
        "$ρ = 7000$</br>\n",
        "$L_f = 276000$</br>\n",
        "$T_f = 1538$</br>\n",
        "$T_∞ = 1540$</br>\n",
        "$T_0 = 1510$</br>\n",
        "$k_0 = 0.17$</br>\n",
        "$Le = 300$</br>"
      ]
    },
    {
      "cell_type": "markdown",
      "metadata": {
        "id": "ydPNAJko7Yod"
      },
      "source": [
        "$Ste = c_p(T_∞-T_0)/L_f$</br>\n",
        "$θ_f = (T_f-T_0)/(T_∞-T_0)$"
      ]
    },
    {
      "cell_type": "markdown",
      "metadata": {
        "id": "Dalh_P2Xbn16"
      },
      "source": [
        "###Conditions"
      ]
    },
    {
      "cell_type": "markdown",
      "metadata": {
        "id": "O79POKQTcWA7"
      },
      "source": [
        "Domain $\\epsilon \\in [0,ϵ^*]$</br>\n",
        "$C_s = k_0C_l^*$</br>\n",
        "PDE1: $\\frac{∂\\theta_s}{∂\\tau} = \\frac{∂^2\\theta_s}{∂\\epsilon^2}$</br>\n",
        "Domain $\\epsilon \\in [ϵ^*,1]$</br>\n",
        "PDE2: $\\frac{∂\\theta_l}{∂\\tau} = \\frac{∂^2\\theta_l}{∂\\epsilon^2}$</br>\n",
        "PDE3: $\\frac{∂C_l}{∂\\tau} = \\frac{1}{Le}\\frac{∂^2C_l}{∂\\epsilon^2}$</br>\n",
        "Interface ($ϵ=ϵ^*$)</br>\n",
        "PDE4: $\\frac{1}{Ste}\\frac{∂\\epsilon^*}{∂\\tau} = \\frac{∂\\theta_s}{∂\\epsilon}-\\frac{∂\\theta_l}{∂\\epsilon}$</br>\n",
        "PDE5: $\\frac{-1}{Le}\\frac{∂C_l}{∂ϵ}=C_l^*(1-k_0)\\frac{dϵ^*}{dτ}$</br>"
      ]
    },
    {
      "cell_type": "markdown",
      "metadata": {
        "id": "_OMlSpiSjcXe"
      },
      "source": [
        "5 PDEs with 5 Variables [$θ_s(x,t)$, $θ_l(x,t)$, $C_s(x,t)$, $C_l(x,t)$, $ϵ^*(t)$]</br>\n",
        "Model the 5 variables using 3 neural networks and optimise the NN parameters</br>"
      ]
    },
    {
      "cell_type": "markdown",
      "metadata": {
        "id": "ImU7FHiIkZCs"
      },
      "source": [
        "Initial ($\\tau = 0$)</br>\n",
        "$θ_l=1$ ; $C_l=C_0$ ; $ϵ^*=0$</br>\n",
        "Interface ($ϵ=ϵ^*$)</br>\n",
        "$θ_s=θ_l=θ^*$</br>\n",
        "$C_l^* = (T_0-T_∞)(θ_f-θ^*)/m_l$</br>\n",
        "Left BC ($ϵ=0$)</br>\n",
        "$θ_s=0$"
      ]
    },
    {
      "cell_type": "markdown",
      "metadata": {
        "id": "NPDMYJ4rjGkb"
      },
      "source": [
        "##Code"
      ]
    },
    {
      "cell_type": "code",
      "execution_count": null,
      "metadata": {
        "id": "rSySZa-qier7"
      },
      "outputs": [],
      "source": [
        "import tensorflow as tf\n",
        "import math as m\n",
        "\n",
        "DTYPE = 'float32'\n",
        "tf.keras.backend.set_floatx(DTYPE) # sets the default float type as 32-bit float\n",
        "\n",
        "a = tf.constant(1., dtype=DTYPE)\n",
        "C0, Le, cp, Ti, T0, Tf, Lf, ml, k0, phi = 0.05*a, 300*a, 820*a, 1540*a, 1510*a, 1538*a, 276000*a, -81.1*a, 0.17*a, 0.1159*a\n",
        "Ste = cp*(Ti-T0)/Lf\n",
        "uf = (Tf-T0)/(Ti-T0)\n",
        "pie = tf.constant(m.pi, dtype=DTYPE)\n",
        "ustar = tf.math.erf(phi)*(1+(tf.math.erfc(phi)*tf.math.exp(phi**2)*phi*(pie**0.5)/Ste)) # actual temp coeff at interface"
      ]
    },
    {
      "cell_type": "code",
      "source": [
        "def C_(u_):\n",
        "  return (T0-Ti)*(uf-u_)/ml # concentration of liquid at interface (Cl*) given interface temp"
      ],
      "metadata": {
        "id": "UciHh86UnAX3"
      },
      "execution_count": null,
      "outputs": []
    },
    {
      "cell_type": "markdown",
      "metadata": {
        "id": "4uOpWSf4IrW4"
      },
      "source": [
        "###Evaluating PDEs"
      ]
    },
    {
      "cell_type": "code",
      "execution_count": null,
      "metadata": {
        "id": "QoIQyNZLIqAH"
      },
      "outputs": [],
      "source": [
        "def f1(u1_t, u1_xx): # calculates PDE1 value given u1's derivatives\n",
        "  return u1_t - u1_xx\n",
        "\n",
        "def f2(u2_t, u2_xx): # calculates PDE2 value given u2's derivatives\n",
        "  return u2_t - u2_xx\n",
        "\n",
        "def f3(c_t, c_xx): # calculates PDE3 value given c's derivatives\n",
        "  return c_t - (c_xx/Le)\n",
        "\n",
        "def f4(s_t, u1_x, u2_x): # calculates PDE4 value\n",
        "  return (s_t/Ste) - u1_x + u2_x\n",
        "\n",
        "def f5(c_x, cstar, s_t): # calculates PDE5 value\n",
        "  return (cstar*(1-k0)*s_t)+(c_x/Le)"
      ]
    },
    {
      "cell_type": "markdown",
      "metadata": {
        "id": "qKBfGYfaI64Y"
      },
      "source": [
        "###Analytical Solutions"
      ]
    },
    {
      "cell_type": "code",
      "execution_count": null,
      "metadata": {
        "id": "KF97oEZHIarK"
      },
      "outputs": [],
      "source": [
        "def u1_anal(t,x): # calculates u1 value from its analytical solution\n",
        "  return ustar*tf.math.erf(x/(2*(t**0.5)))/tf.math.erf(phi)\n",
        "\n",
        "def u2_anal(t,x): # calculates u2 value from its analytical solution\n",
        "  return 1-((1-ustar)*tf.math.erfc(x/(2*(t**0.5)))/tf.math.erfc(phi))\n",
        "\n",
        "c1_anal = k0*C_(ustar) # analytical value of Cs\n",
        "\n",
        "def c2_anal(t,x): # calculates c2 value from its analytical solution\n",
        "  return C0 + ((C_(ustar)-C0)*tf.math.erfc((x*(Le**0.5))/(2*(t**0.5)))/tf.math.erfc(phi*(Le**0.5)))\n",
        "\n",
        "def s_anal(t): # calculates s value from its analytical solution\n",
        "  return 2*phi*(t**0.5)\n",
        "\n",
        "def u_anal(t,x): # analytical value of u given x and t\n",
        "  return tf.where(tf.math.greater(s_anal(t),x),u1_anal(t,x),u2_anal(t,x))\n",
        "\n",
        "def c_anal(t,x): # analytical value of c given x and t\n",
        "  return tf.where(tf.math.greater(s_anal(t),x),c1_anal,c2_anal(t,x))"
      ]
    },
    {
      "cell_type": "markdown",
      "metadata": {
        "id": "m7HgBzNyJCk_"
      },
      "source": [
        "###Training Data"
      ]
    },
    {
      "cell_type": "code",
      "execution_count": null,
      "metadata": {
        "id": "RVAAw-k3WTgZ"
      },
      "outputs": [],
      "source": [
        "Nm = 200 # no of measurement points\n",
        "\n",
        "tmin, tmax = tf.constant(0.), tf.constant(10.) # lower and upper limit on time\n",
        "xmin, xmax = tf.constant(0.), tf.constant(1.) # lower and upper limit on x\n",
        "\n",
        "tf.random.set_seed(0) # random seed for reproducible results\n",
        "\n",
        "tm = tf.random.uniform((Nm,1), tmin, tmax, dtype=DTYPE) # uniformly sample bwn tmin and tmax\n",
        "xm = tf.random.uniform((Nm,1), xmin, xmax, dtype=DTYPE) # uniformly sample bwn xmin and xmax\n",
        "meas = tf.concat([tm, xm], axis=1) # Measurement Data Points\n",
        "um = u_anal(tm,xm) # Analytical value of u at these points\n",
        "cm = c_anal(tm,xm) # Analytical value of c at these points"
      ]
    },
    {
      "cell_type": "markdown",
      "metadata": {
        "id": "YS3VdOeSJOn4"
      },
      "source": [
        "###Optional Data"
      ]
    },
    {
      "cell_type": "code",
      "execution_count": null,
      "metadata": {
        "id": "1mMI7wFpZltH"
      },
      "outputs": [],
      "source": [
        "Ni, Nb, Nc = 50, 50, 10000 # no of initial, boundary and collocation points\n",
        "\n",
        "ti = tf.ones((Ni,1))*tmin # tmin repeated Ni times\n",
        "xi = tf.random.uniform((Ni,1), xmin, xmax, dtype=DTYPE) # uniformly sample bwn xmin and xmax\n",
        "init = tf.concat([ti, xi], axis=1) # Initial Data Points\n",
        "\n",
        "tb = tf.random.uniform((Nb,1), tmin, tmax, dtype=DTYPE) # uniformly sample bwn tmin and tmax\n",
        "xb = tf.ones((Nb,1))*xmin # xmin repeated Nb times\n",
        "bound = tf.concat([tb, xb], axis=1) # Boundary Data Points\n",
        "\n",
        "tc = tf.random.uniform((Nc,1), tmin, tmax, dtype=DTYPE) # uniformly sample bwn tmin and tmax\n",
        "xc = tf.random.uniform((Nc,1), xmin, xmax, dtype=DTYPE) # uniformly sample bwn xmin and xmax\n",
        "coll = tf.concat([tc, xc], axis=1) # Collocation Data Points"
      ]
    },
    {
      "cell_type": "markdown",
      "metadata": {
        "id": "LWTp-w9IJTtn"
      },
      "source": [
        "###Modelling Variables"
      ]
    },
    {
      "cell_type": "code",
      "execution_count": null,
      "metadata": {
        "id": "B9oCg03lUEsh"
      },
      "outputs": [],
      "source": [
        "def u_model(n_hidden = 5, n_neurons = 100):\n",
        "  model = tf.keras.Sequential() # Feed-Forward Neural Network\n",
        "  model.add(tf.keras.Input(2)) # Input Layer for x and t\n",
        "  for i in range(n_hidden): # n_hidden layers each with n_neurons and swish activation\n",
        "    model.add(tf.keras.layers.Dense(n_neurons, activation=tf.keras.activations.get('swish'), kernel_initializer='glorot_normal'))\n",
        "  model.add(tf.keras.layers.Dense(2)) # Output Layer for u1 and u2\n",
        "  return model\n",
        "\n",
        "def c_model(n_hidden = 5, n_neurons = 100):\n",
        "  model = tf.keras.Sequential() # Feed-Forward Neural Network\n",
        "  model.add(tf.keras.Input(2)) # Input Layer for x and t\n",
        "  for i in range(n_hidden): # n_hidden layers each with n_neurons and swish activation\n",
        "    model.add(tf.keras.layers.Dense(n_neurons, activation=tf.keras.activations.get('swish'), kernel_initializer='glorot_normal'))\n",
        "  model.add(tf.keras.layers.Dense(2)) # Output Layer for c1 and c2\n",
        "  return model\n",
        "\n",
        "def s_model(n_hidden = 5, n_neurons = 100):\n",
        "  model = tf.keras.Sequential() # Feed-Forward Neural Network\n",
        "  model.add(tf.keras.Input(1)) # Input Layer for t\n",
        "  for i in range(n_hidden): # n_hidden layers each with n_neurons and swish activation\n",
        "    model.add(tf.keras.layers.Dense(n_neurons, activation=tf.keras.activations.get('swish'), kernel_initializer='glorot_normal'))\n",
        "  model.add(tf.keras.layers.Dense(1)) # Output Layer for s\n",
        "  return model"
      ]
    },
    {
      "cell_type": "markdown",
      "metadata": {
        "id": "T54t9HhaOGUl"
      },
      "source": [
        "###Compute gradients to return PDE values"
      ]
    },
    {
      "cell_type": "code",
      "execution_count": null,
      "metadata": {
        "id": "mXT78xr6ScZa"
      },
      "outputs": [],
      "source": [
        "def get_f(umodel, smodel, cmodel, cps): # calculate f values given models and collocation points\n",
        "  with tf.GradientTape(persistent=True) as tape: # track operations to compute gradient\n",
        "    t, x = cps[:, 0:1], cps[:, 1:2] # extract t and x data each having shape (Nc,1)\n",
        "    tape.watch(t)\n",
        "    tape.watch(x)\n",
        "    u = umodel(tf.concat([t, x], axis=1)) # u1 and u2 as functions of t and x\n",
        "    u1, u2 = u[:, 0:1], u[:, 1:2]\n",
        "    c = cmodel(tf.concat([t, x], axis=1)) # c1 and c2 as functions of t and x\n",
        "    c1, c2 = c[:, 0:1], c[:, 1:2]\n",
        "    s = smodel(t)\n",
        "    tape.watch(s)\n",
        "    ub = umodel(tf.concat([t, s], axis=1))\n",
        "    u1b, u2b = ub[:, 0:1], ub[:, 1:2]\n",
        "    cb = cmodel(tf.concat([t, s], axis=1))[:, 1:2]\n",
        "    # defined within context to compute 2nd derivatives\n",
        "    u1_x = tape.gradient(u1, x)\n",
        "    u2_x = tape.gradient(u2, x)\n",
        "    c_x = tape.gradient(c2, x)\n",
        "  u1b_x = tape.gradient(u1b, s)\n",
        "  u2b_x = tape.gradient(u2b, s)\n",
        "  cb_x = tape.gradient(cb, s)\n",
        "  s_t = tape.gradient(s, t)\n",
        "  c_t = tape.gradient(c2, t)\n",
        "  u1_t = tape.gradient(u1, t)\n",
        "  u2_t = tape.gradient(u2, t)\n",
        "  u1_xx = tape.gradient(u1_x, x)\n",
        "  u2_xx = tape.gradient(u2_x, x)\n",
        "  c_xx = tape.gradient(c_x, x)\n",
        "  del tape\n",
        "  return f1(u1_t, u1_xx), f2(u2_t, u2_xx), f3(c_t, c_xx), f4(s_t, u1b_x, u2b_x), f5(cb_x, cb, s_t)"
      ]
    },
    {
      "cell_type": "markdown",
      "metadata": {
        "id": "WwFWDmQC3Xlb"
      },
      "source": [
        "###Calculating loss"
      ]
    },
    {
      "cell_type": "code",
      "execution_count": null,
      "metadata": {
        "id": "pi9vCxkvFlw4"
      },
      "outputs": [],
      "source": [
        "def loss_fxn(umodel, smodel, cmodel, mea, um, cm, coll): # compute Loss given model and data\n",
        "\n",
        "  tc = coll[:,0:1]\n",
        "  psb = smodel(tc) # Predicted Interface positions\n",
        "  pub = umodel(tf.concat([tc, psb], axis=1)) # Interface Temperature prediction\n",
        "  pu1b, pu2b = pub[:, 0:1], pub[:, 1:2]\n",
        "  pcb = cmodel(tf.concat([tc, psb], axis=1))[:, 1:2] # Interface Concentration prediction\n",
        "  xi = tf.zeros(shape=tf.shape(tc), dtype=DTYPE)\n",
        "  pu0b = umodel(tf.concat([tc, xi], axis=1))[:, 0:1] # Left boundary temperature prediction\n",
        "  Lb1 = tf.reduce_mean(tf.square(pu0b))\n",
        "  Lb2 = tf.reduce_mean(tf.square(pu1b-pu2b))\n",
        "  Lb3 = tf.reduce_mean(tf.square(pcb-C_(pu1b)))\n",
        "  #Lb = tf.reduce_mean(tf.square(pu0b)) + tf.reduce_mean(tf.square(pu1b-pu2b)) + tf.reduce_mean(tf.square(pcb-C_(pu1b))) # MSE for boundary data\n",
        "\n",
        "  pc1 = cmodel(coll)[:,0:1]\n",
        "  Ls = tf.reduce_mean(tf.square(pc1-(k0*pcb)))\n",
        "\n",
        "  init = tf.constant(0,shape=(1,1))\n",
        "  init2 = tf.concat([xi, coll[:,1:2]], axis=1)\n",
        "  pu2i = umodel(init2)[:, 1:2] # predicted initial temp of liquid\n",
        "  pc2i = cmodel(init2)[:, 1:2] # predicted initial conc of liquid\n",
        "  Li1 = tf.squeeze(tf.square(smodel(init)))\n",
        "  Li2 = tf.reduce_mean(tf.square(pc2i-C0))\n",
        "  Li3 = tf.reduce_mean(tf.square(pu2i-a))\n",
        "  #Li = tf.squeeze(tf.square(smodel(init))) + tf.reduce_mean(tf.square(pc2i-C0)) + tf.reduce_mean(tf.square(pu2i-a)) # MSE for initial data\n",
        "\n",
        "  pum = umodel(mea) # Temperature prediction on measurement data\n",
        "  pu1m, pu2m = pum[:, 0:1], pum[:, 1:2]\n",
        "  pcm = cmodel(mea) # Concentration prediction on measurement data\n",
        "  pc1m, pc2m =  pcm[:, 0:1], pcm[:, 1:2]\n",
        "  psm = smodel(mea[:, 0:1]) # Interface prediction on measurement data\n",
        "  pum = tf.where(tf.math.greater(psm,mea[:,1:2]), pu1m, pu2m)\n",
        "  pcm = tf.where(tf.math.greater(psm,mea[:,1:2]), pc1m, pc2m)\n",
        "  Lm1 = tf.reduce_mean(tf.square(um - pum))\n",
        "  Lm2 = tf.reduce_mean(tf.square(cm - pcm))\n",
        "  #Lm = tf.reduce_mean(tf.square(um - pum)) + tf.reduce_mean(tf.square(cm - pcm)) # MSE for measurement data\n",
        "\n",
        "  f_1, f_2, f_3, f_4, f_5 = get_f(umodel, smodel, cmodel, coll) # calculate f values given models and collocation data # additional parameter theta\n",
        "  Lc1 = tf.reduce_mean(tf.square(f_1))\n",
        "  Lc2 = tf.reduce_mean(tf.square(f_2))\n",
        "  Lc3 = tf.reduce_mean(tf.square(f_3))\n",
        "  Lc4 = tf.reduce_mean(tf.square(f_4))\n",
        "  Lc5 = tf.reduce_mean(tf.square(f_5))\n",
        "  #Lc = tf.reduce_mean(tf.square(f_1)) + tf.reduce_mean(tf.square(f_2)) + tf.reduce_mean(tf.square(f_3)) + tf.reduce_mean(tf.square(f_4)) + tf.reduce_mean(tf.square(f_5)) # MSE in PDE values for collocation data\n",
        "\n",
        "  losses = [Lb1,Lb2,Lb3,Ls,Li1,Li2,Li3,Lm1,Lm2,Lc1,Lc2,Lc3,Lc4,Lc5] #Li + Lb + Lc + Lm + Ls\n",
        "\n",
        "  return losses"
      ]
    },
    {
      "cell_type": "code",
      "execution_count": null,
      "metadata": {
        "id": "_4INaXULs4I5"
      },
      "outputs": [],
      "source": [
        "def L_and_grad_Lw(umodel, smodel, cmodel, mea, um, cm, coll): # compute gradient of loss wrt model weights\n",
        "  with tf.GradientTape(persistent=True) as tape:\n",
        "    tape.watch(umodel.trainable_variables) # keep track of operations on umodel training parameters\n",
        "    tape.watch(smodel.trainable_variables) # keep track of operations on smodel training parameters\n",
        "    tape.watch(cmodel.trainable_variables) # keep track of operations on cmodel training parameters\n",
        "    losses = loss_fxn(umodel, smodel, cmodel, mea, um, cm, coll) # loss as a function of model (& hence weights)\n",
        "    loss = sum(losses)\n",
        "  gu = tape.gradient(loss, umodel.trainable_variables)\n",
        "  gs = tape.gradient(loss, smodel.trainable_variables)\n",
        "  gc = tape.gradient(loss, cmodel.trainable_variables)\n",
        "  del tape\n",
        "  return losses, gu, gs, gc"
      ]
    },
    {
      "cell_type": "code",
      "execution_count": null,
      "metadata": {
        "id": "zIvHn7obs-Cz"
      },
      "outputs": [],
      "source": [
        "Nc = 10000 # No of collocation points\n",
        "umodel = u_model() # initialise the Temp NN model\n",
        "smodel = s_model() # initialise the Intf NN model\n",
        "cmodel = c_model() # initialise the Conc NN model\n",
        "#lr = tf.keras.optimizers.schedules.PiecewiseConstantDecay([1000,2000,3000,4000],[5e-3,1e-3,5e-4,1e-4,5e-5]) # decreasing learning rate which is piecewise constant\n",
        "#lr = tf.keras.optimizers.schedules.PiecewiseConstantDecay([1500,3500],[1e-2,1e-3,5e-4]) # decreasing learning rate which is piecewise constant\n",
        "optim = tf.keras.optimizers.legacy.Adam(learning_rate=1e-2) # Adam Optimiser"
      ]
    },
    {
      "cell_type": "code",
      "execution_count": null,
      "metadata": {
        "id": "thyfUTxqs7tU"
      },
      "outputs": [],
      "source": [
        "def train_step(coll):\n",
        "  # compute loss and its gradient wrt model parameters\n",
        "  losses, gu, gs, gc = L_and_grad_Lw(umodel, smodel, cmodel, meas, um, cm, coll)\n",
        "  # perform gradient descent step to update the parameters\n",
        "  optim.apply_gradients(zip(gu, umodel.trainable_variables))\n",
        "  optim.apply_gradients(zip(gs, smodel.trainable_variables))\n",
        "  optim.apply_gradients(zip(gc, cmodel.trainable_variables))\n",
        "  return losses"
      ]
    },
    {
      "cell_type": "code",
      "source": [
        "import warnings\n",
        "warnings.filterwarnings('ignore')\n",
        "from time import time\n",
        "N = 5000 # no of epochs or training iterations\n",
        "losses = []\n",
        "t0 = time()\n",
        "for i in range(1,N+1):\n",
        "  tc = tf.random.uniform((Nc,1), tmin, tmax, dtype=DTYPE) # uniformly sample bwn tmin and tmax\n",
        "  xc = tf.random.uniform((Nc,1), xmin, xmax, dtype=DTYPE) # uniformly sample bwn xmin and xmax\n",
        "  coll = tf.concat([tc, xc], axis=1) # Collocation Data Points\n",
        "  loss_comps = train_step(coll)\n",
        "  if i%1000 == 0:\n",
        "      print([num.numpy() for num in loss_comps]) # recording loss components every 1000 epochs\n",
        "  loss = sum(loss_comps)\n",
        "  losses.append(loss.numpy())\n",
        "print('Final Loss = '+str(losses[-1]))\n",
        "print('Computation Time = {} minutes'.format((time()-t0)/60))"
      ],
      "metadata": {
        "colab": {
          "base_uri": "https://localhost:8080/"
        },
        "id": "B15QdbvvWNs0",
        "outputId": "5123750b-7586-4ea4-a53e-e1fe891e0a97"
      },
      "execution_count": null,
      "outputs": [
        {
          "output_type": "stream",
          "name": "stderr",
          "text": [
            "WARNING:tensorflow:Calling GradientTape.gradient on a persistent tape inside its context is significantly less efficient than calling it outside the context (it causes the gradient ops to be recorded on the tape, leading to increased CPU and memory usage). Only call GradientTape.gradient inside the context if you actually want to trace the gradient in order to compute higher order derivatives.\n",
            "WARNING:tensorflow:Calling GradientTape.gradient on a persistent tape inside its context is significantly less efficient than calling it outside the context (it causes the gradient ops to be recorded on the tape, leading to increased CPU and memory usage). Only call GradientTape.gradient inside the context if you actually want to trace the gradient in order to compute higher order derivatives.\n",
            "WARNING:tensorflow:Calling GradientTape.gradient on a persistent tape inside its context is significantly less efficient than calling it outside the context (it causes the gradient ops to be recorded on the tape, leading to increased CPU and memory usage). Only call GradientTape.gradient inside the context if you actually want to trace the gradient in order to compute higher order derivatives.\n"
          ]
        },
        {
          "output_type": "stream",
          "name": "stdout",
          "text": [
            "[0.0009155554, 0.0014942175, 0.00082773616, 1.8555676e-05, 0.00021354899, 2.3628629e-05, 0.00068250665, 0.0021073257, 0.00044071666, 0.0007837949, 0.0005572259, 0.00012474485, 0.0009949442, 0.00013932955]\n",
            "[0.00053757656, 0.00036301333, 3.2860877e-05, 3.1988152e-06, 8.166877e-05, 4.856445e-06, 9.123676e-05, 0.0020174333, 0.00022015242, 0.0001322862, 0.0002072468, 8.702214e-05, 9.5275784e-05, 0.0001537674]\n",
            "[0.014515117, 0.25344837, 0.3993596, 0.09909244, 3.7561922, 0.015645908, 0.38074112, 0.03976369, 0.12318912, 2.9619075e-13, 3.6246908e-14, 0.33387426, 2.015248, 0.005302632]\n",
            "[0.00415285, 0.20899318, 0.02477514, 0.029306762, 0.1336267, 0.00309903, 0.36879492, 0.040634893, 0.01731717, 2.1453129e-13, 2.6253678e-14, 0.069248594, 0.3187107, 0.00043964476]\n",
            "[7.4426185e-05, 0.16312963, 0.0050953017, 0.014757446, 0.004018251, 0.0013231643, 0.3451326, 0.04298873, 0.009310066, 2.689791e-13, 3.2916842e-14, 0.036756568, 0.09390812, 0.00013316794]\n",
            "Final Loss = 0.7166275\n",
            "Computation Time = 109.2495274980863 minutes\n"
          ]
        }
      ]
    },
    {
      "cell_type": "code",
      "source": [
        "import matplotlib.pyplot as plt\n",
        "import numpy as np\n",
        "epochs = [i for i in range(1,N+1)]\n",
        "plt.yscale('log')\n",
        "plt.plot(epochs, losses)\n",
        "plt.xlabel('Epoch')\n",
        "plt.ylabel('Loss')"
      ],
      "metadata": {
        "colab": {
          "base_uri": "https://localhost:8080/",
          "height": 300
        },
        "id": "X7FEZXayth6-",
        "outputId": "26d3d8a1-2443-43fa-c1c6-5ece8a2c0849"
      },
      "execution_count": null,
      "outputs": [
        {
          "output_type": "execute_result",
          "data": {
            "text/plain": [
              "Text(0, 0.5, 'Loss')"
            ]
          },
          "metadata": {},
          "execution_count": 18
        },
        {
          "output_type": "display_data",
          "data": {
            "text/plain": [
              "<Figure size 432x288 with 1 Axes>"
            ],
            "image/png": "[encoded data removed]"
          },
          "metadata": {
            "needs_background": "light"
          }
        }
      ]
    },
    {
      "cell_type": "code",
      "source": [
        "N = 500\n",
        "xspace = np.expand_dims(np.linspace(xmin, xmax, N+1),axis=1)\n",
        "tspace = np.ones_like(xspace)*6.9\n",
        "X = tf.cast(xspace,DTYPE)\n",
        "T = tf.cast(tspace,DTYPE)\n",
        "upred = umodel(tf.concat([T, X], axis=1))\n",
        "u1p, u2p = upred[:, 0:1], upred[:, 1:2]\n",
        "spred = smodel(T)\n",
        "up = tf.where(tf.math.greater(spred,X), u1p, u2p)\n",
        "U = up.numpy()\n",
        "utrue = u_anal(T,X)\n",
        "UT = utrue.numpy()\n",
        "plt.plot(X,U,color='orange')\n",
        "plt.plot(X,UT,color='blue')\n",
        "plt.legend(['PINN Predicted','Analytical Solution'])\n",
        "plt.xlabel('x (Distance)')\n",
        "plt.ylabel('u (Temperature)')"
      ],
      "metadata": {
        "colab": {
          "base_uri": "https://localhost:8080/",
          "height": 296
        },
        "id": "9VOq3Mmlv0ws",
        "outputId": "fc58aa75-53a1-41a3-92be-4c796d891eb2"
      },
      "execution_count": null,
      "outputs": [
        {
          "output_type": "execute_result",
          "data": {
            "text/plain": [
              "Text(0, 0.5, 'u (Temperature)')"
            ]
          },
          "metadata": {},
          "execution_count": 19
        },
        {
          "output_type": "display_data",
          "data": {
            "text/plain": [
              "<Figure size 432x288 with 1 Axes>"
            ],
            "image/png": "[encoded data removed]"
          },
          "metadata": {
            "needs_background": "light"
          }
        }
      ]
    },
    {
      "cell_type": "code",
      "source": [
        "spred.numpy()[0][0], s_anal(T).numpy()[0][0]"
      ],
      "metadata": {
        "colab": {
          "base_uri": "https://localhost:8080/"
        },
        "id": "Y8-K-x8LwBXF",
        "outputId": "8dd75321-7e5a-4c7d-fc67-bedf88a3a917"
      },
      "execution_count": null,
      "outputs": [
        {
          "output_type": "execute_result",
          "data": {
            "text/plain": [
              "(-0.08102715, 0.6088888)"
            ]
          },
          "metadata": {},
          "execution_count": 20
        }
      ]
    },
    {
      "cell_type": "code",
      "source": [
        "cpred = cmodel(tf.concat([T, X], axis=1))\n",
        "c1p, c2p = cpred[:,0:1], cpred[:,1:2]\n",
        "cp = tf.where(tf.math.greater(spred,X), c1p, c2p)\n",
        "C = cp.numpy()\n",
        "ctrue = c_anal(T,X)\n",
        "CT = ctrue.numpy()\n",
        "plt.plot(X,C,color='orange')\n",
        "plt.plot(X,CT,color='blue')\n",
        "plt.legend(['PINN Predicted','Analytical Solution'])\n",
        "plt.xlabel('x (Distance)')\n",
        "plt.ylabel('c (Concentration)')"
      ],
      "metadata": {
        "colab": {
          "base_uri": "https://localhost:8080/",
          "height": 296
        },
        "id": "IMzN6NlDwJwN",
        "outputId": "658aef9c-64ad-4ea8-ed17-9bbe1b3c4df5"
      },
      "execution_count": null,
      "outputs": [
        {
          "output_type": "execute_result",
          "data": {
            "text/plain": [
              "Text(0, 0.5, 'c (Concentration)')"
            ]
          },
          "metadata": {},
          "execution_count": 21
        },
        {
          "output_type": "display_data",
          "data": {
            "text/plain": [
              "<Figure size 432x288 with 1 Axes>"
            ],
            "image/png": "[encoded data removed]"
          },
          "metadata": {
            "needs_background": "light"
          }
        }
      ]
    }
  ],
  "metadata": {
    "accelerator": "GPU",
    "colab": {
      "collapsed_sections": [
        "XoXoF9Kqbni2",
        "Dalh_P2Xbn16"
      ],
      "provenance": []
    },
    "gpuClass": "standard",
    "kernelspec": {
      "display_name": "Python 3",
      "name": "python3"
    },
    "language_info": {
      "name": "python"
    }
  },
  "nbformat": 4,
  "nbformat_minor": 0
}