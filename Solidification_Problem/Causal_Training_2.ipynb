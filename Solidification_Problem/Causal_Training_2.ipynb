{
  "cells": [
    {
      "cell_type": "code",
      "execution_count": null,
      "metadata": {
        "id": "xgj2HLIQQrxo",
        "outputId": "f6b938db-9f29-4247-9d3d-12e9a48901ff"
      },
      "outputs": [
        {
          "data": {
            "text/plain": [
              "'/device:GPU:0'"
            ]
          },
          "execution_count": 1,
          "metadata": {},
          "output_type": "execute_result"
        }
      ],
      "source": [
        "import tensorflow as tf\n",
        "tf.test.gpu_device_name()"
      ]
    },
    {
      "cell_type": "markdown",
      "metadata": {
        "id": "XoXoF9Kqbni2"
      },
      "source": [
        "###Constants"
      ]
    },
    {
      "cell_type": "markdown",
      "metadata": {
        "id": "YlKnu2vba5KL"
      },
      "source": [
        "$C_0 = 0.05$</br>\n",
        "$m_l = -81.1$</br>\n",
        "$m_s = -478$</br>\n",
        "$c_p = 820$</br>\n",
        "$ρ = 7000$</br>\n",
        "$L_f = 276000$</br>\n",
        "$T_f = 1538$</br>\n",
        "$T_∞ = 1540$</br>\n",
        "$T_0 = 1510$</br>\n",
        "$k_0 = 0.17$</br>\n",
        "$Le = 300$</br>"
      ]
    },
    {
      "cell_type": "markdown",
      "metadata": {
        "id": "ydPNAJko7Yod"
      },
      "source": [
        "$Ste = c_p(T_∞-T_0)/L_f$</br>\n",
        "$θ_f = (T_f-T_0)/(T_∞-T_0)$"
      ]
    },
    {
      "cell_type": "markdown",
      "metadata": {
        "id": "Dalh_P2Xbn16"
      },
      "source": [
        "###Conditions"
      ]
    },
    {
      "cell_type": "markdown",
      "metadata": {
        "id": "O79POKQTcWA7"
      },
      "source": [
        "Domain $\\epsilon \\in [0,ϵ^*]$</br>\n",
        "$C_s = k_0C_l^*$</br>\n",
        "PDE1: $\\frac{∂\\theta_s}{∂\\tau} = \\frac{∂^2\\theta_s}{∂\\epsilon^2}$</br>\n",
        "Domain $\\epsilon \\in [ϵ^*,1]$</br>\n",
        "PDE2: $\\frac{∂\\theta_l}{∂\\tau} = \\frac{∂^2\\theta_l}{∂\\epsilon^2}$</br>\n",
        "PDE3: $\\frac{∂C_l}{∂\\tau} = \\frac{1}{Le}\\frac{∂^2C_l}{∂\\epsilon^2}$</br>\n",
        "Interface ($ϵ=ϵ^*$)</br>\n",
        "PDE4: $\\frac{1}{Ste}\\frac{∂\\epsilon^*}{∂\\tau} = \\frac{∂\\theta_s}{∂\\epsilon}-\\frac{∂\\theta_l}{∂\\epsilon}$</br>\n",
        "PDE5: $\\frac{-1}{Le}\\frac{∂C_l}{∂ϵ}=C_l^*(1-k_0)\\frac{dϵ^*}{dτ}$</br>"
      ]
    },
    {
      "cell_type": "markdown",
      "metadata": {
        "id": "_OMlSpiSjcXe"
      },
      "source": [
        "5 PDEs with 5 Variables [$θ_s(x,t)$, $θ_l(x,t)$, $C_s(x,t)$, $C_l(x,t)$, $ϵ^*(t)$]</br>\n",
        "Model the 5 variables using 5 neural networks and optimise the NN parameters</br>"
      ]
    },
    {
      "cell_type": "markdown",
      "metadata": {
        "id": "ImU7FHiIkZCs"
      },
      "source": [
        "Initial ($\\tau = 0$)</br>\n",
        "$θ_l=1$ ; $C_l=C_0$ ; $ϵ^*=0$</br>\n",
        "Interface ($ϵ=ϵ^*$)</br>\n",
        "$θ_s=θ_l=θ^*$</br>\n",
        "$C_l^* = (T_0-T_∞)(θ_f-θ^*)/m_l$</br>\n",
        "Left BC ($ϵ=0$)</br>\n",
        "$θ_s=0$"
      ]
    },
    {
      "cell_type": "markdown",
      "metadata": {
        "id": "NPDMYJ4rjGkb"
      },
      "source": [
        "##Code"
      ]
    },
    {
      "cell_type": "code",
      "execution_count": null,
      "metadata": {
        "id": "rSySZa-qier7"
      },
      "outputs": [],
      "source": [
        "import tensorflow as tf\n",
        "import math as m\n",
        "\n",
        "DTYPE = 'float32'\n",
        "tf.keras.backend.set_floatx(DTYPE) # sets the default float type as 32-bit float\n",
        "\n",
        "a = tf.constant(1., dtype=DTYPE)\n",
        "C0, Le, cp, Ti, T0, Tf, Lf, ml, k0, phi = 0.05*a, 300*a, 820*a, 1540*a, 1510*a, 1538*a, 276000*a, -81.1*a, 0.17*a, 0.1159*a\n",
        "Ste = cp*(Ti-T0)/Lf\n",
        "uf = (Tf-T0)/(Ti-T0)\n",
        "pie = tf.constant(m.pi, dtype=DTYPE)\n",
        "ustar = tf.math.erf(phi)*(1+(tf.math.erfc(phi)*tf.math.exp(phi**2)*phi*(pie**0.5)/Ste)) # actual temp coeff at interface"
      ]
    },
    {
      "cell_type": "code",
      "execution_count": null,
      "metadata": {
        "id": "UciHh86UnAX3"
      },
      "outputs": [],
      "source": [
        "def C_(u_):\n",
        "  return (T0-Ti)*(uf-u_)/ml # concentration of liquid at interface (Cl*) given interface temp"
      ]
    },
    {
      "cell_type": "markdown",
      "metadata": {
        "id": "4uOpWSf4IrW4"
      },
      "source": [
        "###Evaluating PDEs"
      ]
    },
    {
      "cell_type": "code",
      "execution_count": null,
      "metadata": {
        "id": "QoIQyNZLIqAH"
      },
      "outputs": [],
      "source": [
        "def f1(u1_t, u1_xx): # calculates PDE1 value given u1's derivatives\n",
        "  return u1_t - u1_xx\n",
        "\n",
        "def f2(u2_t, u2_xx): # calculates PDE2 value given u2's derivatives\n",
        "  return u2_t - u2_xx\n",
        "\n",
        "def f3(c_t, c_xx): # calculates PDE3 value given c's derivatives\n",
        "  return c_t - (c_xx/Le)\n",
        "\n",
        "def f4(s_t, u1_x, u2_x): # calculates PDE4 value\n",
        "  return (s_t/Ste) - u1_x + u2_x\n",
        "\n",
        "def f5(c_x, cstar, s_t): # calculates PDE5 value\n",
        "  return (cstar*(1-k0)*s_t)+(c_x/Le)"
      ]
    },
    {
      "cell_type": "markdown",
      "metadata": {
        "id": "qKBfGYfaI64Y"
      },
      "source": [
        "###Analytical Solutions"
      ]
    },
    {
      "cell_type": "code",
      "execution_count": null,
      "metadata": {
        "id": "KF97oEZHIarK"
      },
      "outputs": [],
      "source": [
        "def u1_anal(t,x): # calculates u1 value from its analytical solution\n",
        "  return ustar*tf.math.erf(x/(2*(t**0.5)))/tf.math.erf(phi)\n",
        "\n",
        "def u2_anal(t,x): # calculates u2 value from its analytical solution\n",
        "  return 1-((1-ustar)*tf.math.erfc(x/(2*(t**0.5)))/tf.math.erfc(phi))\n",
        "\n",
        "c1_anal = k0*C_(ustar) # analytical value of Cs\n",
        "\n",
        "def c2_anal(t,x): # calculates c2 value from its analytical solution\n",
        "  return C0 + ((C_(ustar)-C0)*tf.math.erfc((x*(Le**0.5))/(2*(t**0.5)))/tf.math.erfc(phi*(Le**0.5)))\n",
        "\n",
        "def s_anal(t): # calculates s value from its analytical solution\n",
        "  return 2*phi*(t**0.5)\n",
        "\n",
        "def u_anal(t,x): # analytical value of u given x and t\n",
        "  return tf.where(tf.math.greater(s_anal(t),x),u1_anal(t,x),u2_anal(t,x))\n",
        "\n",
        "def c_anal(t,x): # analytical value of c given x and t\n",
        "  return tf.where(tf.math.greater(s_anal(t),x),c1_anal,c2_anal(t,x))"
      ]
    },
    {
      "cell_type": "markdown",
      "metadata": {
        "id": "m7HgBzNyJCk_"
      },
      "source": [
        "###Training Data"
      ]
    },
    {
      "cell_type": "code",
      "source": [
        "Nm1, Nm2 = 900, 50 # no of measurement points\n",
        "\n",
        "tmin, tmax = tf.constant(0.), tf.constant(10.) # lower and upper limit on time\n",
        "xmin, xmax = tf.constant(0.), tf.constant(1.) # lower and upper limit on x\n",
        "\n",
        "tf.random.set_seed(0) # random seed for reproducible results\n",
        "\n",
        "tm1 = tf.random.uniform((Nm1,1), tmin, tmax, dtype=DTYPE) # uniformly sample bwn tmin and tmax\n",
        "tm2 = tf.random.uniform((Nm2,1), tmin, tmax, dtype=DTYPE) # uniformly sample bwn tmin and tmax\n",
        "im = tf.zeros(shape=(Nm2,1), dtype=DTYPE)\n",
        "tm = tf.concat([tm1,tm2,im],axis=0)\n",
        "xm1 = tf.random.uniform((Nm1,1), xmin, xmax, dtype=DTYPE) # uniformly sample bwn xmin and xmax\n",
        "sm = s_anal(tm2)\n",
        "xm2 = tf.random.uniform((Nm2,1), xmin, xmax, dtype=DTYPE) # uniformly sample bwn xmin and xmax\n",
        "xm = tf.concat([xm1,sm,xm2],axis=0)\n",
        "meas = tf.concat([tm, xm], axis=1) # Measurement Data Points\n",
        "um = u_anal(tm,xm) # Analytical value of u at these points\n",
        "cm = c_anal(tm,xm) # Analytical value of c at these points\n",
        "sm2 = s_anal(tm)"
      ],
      "metadata": {
        "id": "IXHWu-62S-Jp"
      },
      "execution_count": null,
      "outputs": []
    },
    {
      "cell_type": "code",
      "execution_count": null,
      "metadata": {
        "id": "RVAAw-k3WTgZ"
      },
      "outputs": [],
      "source": [
        "Nm = 200 # no of measurement points\n",
        "\n",
        "tmin, tmax = tf.constant(0.), tf.constant(10.) # lower and upper limit on time\n",
        "xmin, xmax = tf.constant(0.), tf.constant(1.) # lower and upper limit on x\n",
        "\n",
        "tf.random.set_seed(0) # random seed for reproducible results\n",
        "\n",
        "tm = tf.random.uniform((Nm,1), tmin, tmax, dtype=DTYPE) # uniformly sample bwn tmin and tmax\n",
        "xm = tf.random.uniform((Nm,1), xmin, xmax, dtype=DTYPE) # uniformly sample bwn xmin and xmax\n",
        "meas = tf.concat([tm, xm], axis=1) # Measurement Data Points\n",
        "um = u_anal(tm,xm) # Analytical value of u at these points\n",
        "cm = c_anal(tm,xm) # Analytical value of c at these points"
      ]
    },
    {
      "cell_type": "markdown",
      "metadata": {
        "id": "YS3VdOeSJOn4"
      },
      "source": [
        "###Optional Data"
      ]
    },
    {
      "cell_type": "code",
      "execution_count": null,
      "metadata": {
        "id": "1mMI7wFpZltH"
      },
      "outputs": [],
      "source": [
        "Ni, Nb, Nc = 50, 50, 10000 # no of initial, boundary and collocation points\n",
        "\n",
        "ti = tf.ones((Ni,1))*tmin # tmin repeated Ni times\n",
        "xi = tf.random.uniform((Ni,1), xmin, xmax, dtype=DTYPE) # uniformly sample bwn xmin and xmax\n",
        "init = tf.concat([ti, xi], axis=1) # Initial Data Points\n",
        "\n",
        "tb = tf.random.uniform((Nb,1), tmin, tmax, dtype=DTYPE) # uniformly sample bwn tmin and tmax\n",
        "xb = tf.ones((Nb,1))*xmin # xmin repeated Nb times\n",
        "bound = tf.concat([tb, xb], axis=1) # Boundary Data Points\n",
        "\n",
        "tc = tf.random.uniform((Nc,1), tmin, tmax, dtype=DTYPE) # uniformly sample bwn tmin and tmax\n",
        "xc = tf.random.uniform((Nc,1), xmin, xmax, dtype=DTYPE) # uniformly sample bwn xmin and xmax\n",
        "coll = tf.concat([tc, xc], axis=1) # Collocation Data Points"
      ]
    },
    {
      "cell_type": "markdown",
      "metadata": {
        "id": "LWTp-w9IJTtn"
      },
      "source": [
        "###Modelling Variables"
      ]
    },
    {
      "cell_type": "code",
      "execution_count": null,
      "metadata": {
        "id": "B9oCg03lUEsh"
      },
      "outputs": [],
      "source": [
        "def u1_model(n_hidden = 5, n_neurons = 100):\n",
        "  model = tf.keras.Sequential() # Feed-Forward Neural Network\n",
        "  model.add(tf.keras.Input(2)) # Input Layer for x and t\n",
        "  for i in range(n_hidden): # n_hidden layers each with n_neurons and swish activation\n",
        "    model.add(tf.keras.layers.Dense(n_neurons, activation=tf.keras.activations.get('swish'), kernel_initializer='glorot_normal'))\n",
        "  model.add(tf.keras.layers.Dense(1)) # Output Layer for Ts\n",
        "  return model\n",
        "\n",
        "def u2_model(n_hidden = 5, n_neurons = 100):\n",
        "  model = tf.keras.Sequential() # Feed-Forward Neural Network\n",
        "  model.add(tf.keras.Input(2)) # Input Layer for x and t\n",
        "  for i in range(n_hidden): # n_hidden layers each with n_neurons and swish activation\n",
        "    model.add(tf.keras.layers.Dense(n_neurons, activation=tf.keras.activations.get('swish'), kernel_initializer='glorot_normal'))\n",
        "  model.add(tf.keras.layers.Dense(1)) # Output Layer for Tl\n",
        "  return model\n",
        "\n",
        "def c1_model(n_hidden = 1, n_neurons = 5):\n",
        "  model = tf.keras.Sequential() # Feed-Forward Neural Network\n",
        "  model.add(tf.keras.Input(2)) # Input Layer for x and t\n",
        "  for i in range(n_hidden): # n_hidden layers each with n_neurons and swish activation\n",
        "    model.add(tf.keras.layers.Dense(n_neurons, activation=tf.keras.activations.get('swish'), kernel_initializer='glorot_normal'))\n",
        "  model.add(tf.keras.layers.Dense(1)) # Output Layer for Cs\n",
        "  return model\n",
        "\n",
        "def c2_model(n_hidden = 5, n_neurons = 100):\n",
        "  model = tf.keras.Sequential() # Feed-Forward Neural Network\n",
        "  model.add(tf.keras.Input(2)) # Input Layer for x and t\n",
        "  for i in range(n_hidden): # n_hidden layers each with n_neurons and swish activation\n",
        "    model.add(tf.keras.layers.Dense(n_neurons, activation=tf.keras.activations.get('swish'), kernel_initializer='glorot_normal'))\n",
        "  model.add(tf.keras.layers.Dense(1)) # Output Layer for Cl\n",
        "  return model\n",
        "\n",
        "def s_model(n_hidden = 5, n_neurons = 100):\n",
        "  model = tf.keras.Sequential() # Feed-Forward Neural Network\n",
        "  model.add(tf.keras.Input(1)) # Input Layer for t\n",
        "  for i in range(n_hidden): # n_hidden layers each with n_neurons and swish activation\n",
        "    model.add(tf.keras.layers.Dense(n_neurons, activation=tf.keras.activations.get('swish'), kernel_initializer='glorot_normal'))\n",
        "  model.add(tf.keras.layers.Dense(1)) # Output Layer for s\n",
        "  return model"
      ]
    },
    {
      "cell_type": "markdown",
      "metadata": {
        "id": "T54t9HhaOGUl"
      },
      "source": [
        "###Compute gradients to return PDE values"
      ]
    },
    {
      "cell_type": "code",
      "execution_count": null,
      "metadata": {
        "id": "mXT78xr6ScZa"
      },
      "outputs": [],
      "source": [
        "def get_f(u1model, u2model, smodel, c2model, cps): # calculate f values given models and collocation points\n",
        "  with tf.GradientTape(persistent=True) as tape: # track operations to compute gradient\n",
        "    t, x = cps[:, 0:1], cps[:, 1:2] # extract t and x data each having shape (Nc,1)\n",
        "    tape.watch(t)\n",
        "    tape.watch(x)\n",
        "    u1 = u1model(tf.concat([t, x], axis=1)) # u1 as a function of t and x\n",
        "    u2 = u2model(tf.concat([t, x], axis=1)) # u2 as a function of t and x\n",
        "    c2 = c2model(tf.concat([t, x], axis=1)) # c2 as a function of t and x\n",
        "    s = smodel(t)\n",
        "    tape.watch(s)\n",
        "    u1b = u1model(tf.concat([t, s], axis=1))\n",
        "    u2b = u2model(tf.concat([t, s], axis=1))\n",
        "    cb = c2model(tf.concat([t, s], axis=1))\n",
        "    # defined within context to compute 2nd derivatives\n",
        "    u1_x = tape.gradient(u1, x)\n",
        "    u2_x = tape.gradient(u2, x)\n",
        "    c_x = tape.gradient(c2, x)\n",
        "  u1b_x = tape.gradient(u1b, s)\n",
        "  u2b_x = tape.gradient(u2b, s)\n",
        "  cb_x = tape.gradient(cb, s)\n",
        "  s_t = tape.gradient(s, t)\n",
        "  c_t = tape.gradient(c2, t)\n",
        "  u1_t = tape.gradient(u1, t)\n",
        "  u2_t = tape.gradient(u2, t)\n",
        "  u1_xx = tape.gradient(u1_x, x)\n",
        "  u2_xx = tape.gradient(u2_x, x)\n",
        "  c_xx = tape.gradient(c_x, x)\n",
        "  del tape\n",
        "  return f1(u1_t, u1_xx), f2(u2_t, u2_xx), f3(c_t, c_xx), f4(s_t, u1b_x, u2b_x), f5(cb_x, cb, s_t)"
      ]
    },
    {
      "cell_type": "markdown",
      "metadata": {
        "id": "WwFWDmQC3Xlb"
      },
      "source": [
        "###Calculating loss"
      ]
    },
    {
      "cell_type": "code",
      "source": [
        "init = tf.constant(0,shape=(1,1),dtype=DTYPE)"
      ],
      "metadata": {
        "id": "eax2yAdFV-Vy"
      },
      "execution_count": null,
      "outputs": []
    },
    {
      "cell_type": "code",
      "execution_count": null,
      "metadata": {
        "id": "pi9vCxkvFlw4"
      },
      "outputs": [],
      "source": [
        "def loss_fxn(u1model, u2model, smodel, c1model, c2model, mea, um, cm, xc, times): # compute loss given model and data\n",
        "\n",
        "    pu1m = u1model(mea) # Solid Temperature prediction on measurement data\n",
        "    pu2m = u2model(mea) # Liquid Temperature prediction on measurement data\n",
        "    pc1m = c1model(mea) # Solid Concentration prediction on measurement data\n",
        "    pc2m = c2model(mea) # Liquid Concentration prediction on measurement data\n",
        "    psm = smodel(mea[:, 0:1]) # Interface prediction on measurement data\n",
        "    pum = tf.where(tf.math.greater(psm,mea[:,1:2]), pu1m, pu2m)\n",
        "    pcm = tf.where(tf.math.greater(psm,mea[:,1:2]), pc1m, pc2m)\n",
        "    Lm1 = tf.reduce_mean(tf.square(um - pum))\n",
        "    Lm2 = tf.reduce_mean(tf.square(cm - pcm))\n",
        "    Lm3 = tf.reduce_mean(tf.square(sm2 - psm))\n",
        "    Lm = (Lm1 + Lm2 + Lm3)*25.6\n",
        "\n",
        "    ti = tf.zeros(shape=xc.shape, dtype=DTYPE)\n",
        "    init2 = tf.concat([ti, xc], axis=1)\n",
        "    pu2i = u2model(init2) # predicted initial temp of liquid\n",
        "    pc2i = c2model(init2) # predicted initial conc of liquid\n",
        "    Li1 = tf.squeeze(tf.square(smodel(init)))\n",
        "    Li2 = tf.reduce_mean(tf.square(pc2i-C0))\n",
        "    Li3 = tf.reduce_mean(tf.square(pu2i-a))\n",
        "    Li = Li1*25600 + Li2*100 + Li3*100\n",
        "\n",
        "    tot_loss = Lm + Li\n",
        "    sum_loss = tf.zeros(shape=(), dtype=DTYPE)\n",
        "    error = Lm1+Lm2+Lm3+Li1+Li2+Li3\n",
        "    #weights = []\n",
        "\n",
        "    for t in times:\n",
        "\n",
        "      ts = tf.reshape(t,(1,1))\n",
        "      psb = smodel(ts) # Predicted Interface position\n",
        "      pu1b = u1model(tf.concat([ts, psb], axis=1)) # Solid Interface Temperature prediction\n",
        "      pu2b = u2model(tf.concat([ts, psb], axis=1)) # Liquid Interface Temperature prediction\n",
        "      pcb = c2model(tf.concat([ts, psb], axis=1)) # Liquid Interface Concentration prediction\n",
        "      pu0b = u1model(tf.concat([ts, init], axis=1)) # Left Boundary Temperature prediction\n",
        "      Lb1 = tf.reduce_mean(tf.square(pu0b))\n",
        "      Lb2 = tf.reduce_mean(tf.square(pu1b-pu2b))\n",
        "      Lb3 = tf.reduce_mean(tf.square(pcb-C_(pu1b)))\n",
        "      Lb = (Lb1 + Lb2 + Lb3)*256\n",
        "\n",
        "      tc = tf.ones_like(xc,dtype=DTYPE)*t\n",
        "      coll = tf.concat([tc, xc], axis=1) # Collocation Data Points\n",
        "      f_1, f_2, f_3, f_4, f_5 = get_f(u1model, u2model, smodel, c2model, coll) # calculate f values given models and collocation data\n",
        "      Lc1 = tf.reduce_mean(tf.square(f_1))\n",
        "      Lc2 = tf.reduce_mean(tf.square(f_2))\n",
        "      Lc3 = tf.reduce_mean(tf.square(f_3))\n",
        "      Lc4 = tf.reduce_mean(tf.square(f_4))\n",
        "      Lc5 = tf.reduce_mean(tf.square(f_5))\n",
        "      pc1 = c1model(coll)\n",
        "      Ls = tf.reduce_mean(tf.square(pc1-(k0*pcb))) # relation bwn Cs and Cl*\n",
        "      Lc = Lc1 + Lc2 + Lc3 + Lc4 + Lc5 + Ls\n",
        "\n",
        "      w = tf.math.exp(-sum_loss)\n",
        "      #weights.append(w)\n",
        "      tot_loss += w*(Lc+Lb)/Nt\n",
        "      sum_loss += (Lc+Lb)\n",
        "      error += (Lb1+Lb2+Lb3+Lc)/Nt\n",
        "\n",
        "    return tot_loss, error#, weights"
      ]
    },
    {
      "cell_type": "markdown",
      "metadata": {
        "id": "8T9Nzv36v5o_"
      },
      "source": [
        "###Computing Loss Gradients"
      ]
    },
    {
      "cell_type": "code",
      "execution_count": null,
      "metadata": {
        "id": "rgPK1N8jtaAl"
      },
      "outputs": [],
      "source": [
        "def L_and_grad_Lw(u1model, u2model, smodel, c1model, c2model, meas, um, cm, xc, times): # compute gradient of loss wrt model weights\n",
        "  with tf.GradientTape(persistent=True) as tape:\n",
        "    tape.watch(u1model.trainable_variables) # keep track of operations on u1model training parameters\n",
        "    tape.watch(u2model.trainable_variables) # keep track of operations on u2model training parameters\n",
        "    tape.watch(smodel.trainable_variables) # keep track of operations on smodel training parameters\n",
        "    tape.watch(c1model.trainable_variables) # keep track of operations on c1model training parameters\n",
        "    tape.watch(c2model.trainable_variables) # keep track of operations on c2model training parameters\n",
        "    loss, error = loss_fxn(u1model, u2model, smodel, c1model, c2model, meas, um, cm, xc, times) # loss as a function of model (& hence weights)\n",
        "  gu1 = tape.gradient(loss, u1model.trainable_variables)\n",
        "  gu2 = tape.gradient(loss, u2model.trainable_variables)\n",
        "  gs = tape.gradient(loss, smodel.trainable_variables)\n",
        "  gc1 = tape.gradient(loss, c1model.trainable_variables)\n",
        "  gc2 = tape.gradient(loss, c2model.trainable_variables)\n",
        "  del tape\n",
        "  return loss, gu1, gu2, gs, gc1, gc2, error"
      ]
    },
    {
      "cell_type": "code",
      "execution_count": null,
      "metadata": {
        "id": "WMeliOk7ZymW"
      },
      "outputs": [],
      "source": [
        "Nt, Nx = 100, 256 # No of t and x points sampled\n",
        "u1model = u1_model() # initialise the Solid Temp NN model\n",
        "u2model = u2_model() # initialise the Liquid Temp NN model\n",
        "smodel = s_model() # initialise the Intf NN model\n",
        "c1model = c1_model() # initialise the Solid Conc NN model\n",
        "c2model = c2_model() # initialise the Liquid Conc NN model\n",
        "#lr = tf.keras.optimizers.schedules.PiecewiseConstantDecay([250,1000],[1e-2,1e-3,5e-4]) # decreasing learning rate which is piecewise constant\n",
        "optim = tf.keras.optimizers.legacy.Adam(learning_rate=0.0005) # Adam Optimiser"
      ]
    },
    {
      "cell_type": "code",
      "execution_count": null,
      "metadata": {
        "id": "CNYfJ2yRaByT"
      },
      "outputs": [],
      "source": [
        "@tf.function\n",
        "\n",
        "def train_step(xc, times):\n",
        "\n",
        "  # compute loss and its gradient wrt model parameters\n",
        "  loss, gu1, gu2, gs, gc1, gc2, error = L_and_grad_Lw(u1model, u2model, smodel, c1model, c2model, meas, um, cm, xc, times)\n",
        "\n",
        "  # perform gradient descent step to update the parameters\n",
        "  optim.apply_gradients(zip(gu1, u1model.trainable_variables))\n",
        "  optim.apply_gradients(zip(gu2, u2model.trainable_variables))\n",
        "  optim.apply_gradients(zip(gs, smodel.trainable_variables))\n",
        "  optim.apply_gradients(zip(gc1, c1model.trainable_variables))\n",
        "  optim.apply_gradients(zip(gc2, c2model.trainable_variables))\n",
        "\n",
        "  return loss, error"
      ]
    },
    {
      "cell_type": "code",
      "source": [
        "# LR = 0.0005\n",
        "from time import time\n",
        "N = 500 # no of epochs or training iterations\n",
        "losses = []\n",
        "errors = []\n",
        "t0 = time()\n",
        "tf.random.set_seed(0)\n",
        "\n",
        "for i in range(1,N+1):\n",
        "    xc = tf.random.uniform((Nx,1), xmin, xmax, dtype=DTYPE) # uniformly sample bwn xmin and xmax\n",
        "    times = tf.random.uniform((Nt,1), tmin, tmax, dtype=DTYPE) # uniformly sample bwn tmin and tmax\n",
        "    loss, error = train_step(xc, times)\n",
        "    losses.append(loss.numpy())\n",
        "    errors.append(error.numpy())\n",
        "    if i%10==0:\n",
        "        print('Epoch = '+str(i)+' --> Loss = '+str(loss.numpy())+'  and Error = '+str(error.numpy()))\n",
        "\n",
        "print('Computation Time = {} minutes'.format((time()-t0)/60))"
      ],
      "metadata": {
        "colab": {
          "base_uri": "https://localhost:8080/"
        },
        "id": "dpQ1HqBDUEh4",
        "outputId": "7cd716b5-a2d1-4042-915f-8ebcfbde9c64"
      },
      "execution_count": null,
      "outputs": [
        {
          "output_type": "stream",
          "name": "stderr",
          "text": [
            "WARNING:tensorflow:Calling GradientTape.gradient on a persistent tape inside its context is significantly less efficient than calling it outside the context (it causes the gradient ops to be recorded on the tape, leading to increased CPU and memory usage). Only call GradientTape.gradient inside the context if you actually want to trace the gradient in order to compute higher order derivatives.\n"
          ]
        },
        {
          "output_type": "stream",
          "name": "stdout",
          "text": [
            "Epoch = 10 --> Loss = 82.3692  and Error = 2.5506392\n",
            "Epoch = 20 --> Loss = 16.783424  and Error = 2.55965\n",
            "Epoch = 30 --> Loss = 8.391466  and Error = 3.2214391\n",
            "Epoch = 40 --> Loss = 6.7743406  and Error = 1.874601\n",
            "Epoch = 50 --> Loss = 3.9799871  and Error = 2.0917683\n",
            "Epoch = 60 --> Loss = 3.103047  and Error = 1.5328583\n",
            "Epoch = 70 --> Loss = 1.9448416  and Error = 1.6046805\n",
            "Epoch = 80 --> Loss = 1.4376752  and Error = 1.5277137\n",
            "Epoch = 90 --> Loss = 1.408819  and Error = 1.0548728\n",
            "Epoch = 100 --> Loss = 0.6517774  and Error = 0.8685169\n",
            "Epoch = 110 --> Loss = 0.517915  and Error = 0.53522766\n",
            "Epoch = 120 --> Loss = 0.44212982  and Error = 0.44352487\n",
            "Epoch = 130 --> Loss = 0.40174574  and Error = 0.3688814\n",
            "Epoch = 140 --> Loss = 0.4672315  and Error = 0.6767012\n",
            "Epoch = 150 --> Loss = 0.3203677  and Error = 0.42641953\n",
            "Epoch = 160 --> Loss = 0.31538495  and Error = 0.41757804\n",
            "Epoch = 170 --> Loss = 0.29272088  and Error = 0.38950258\n",
            "Epoch = 180 --> Loss = 0.26884073  and Error = 0.5043813\n",
            "Epoch = 190 --> Loss = 0.7396332  and Error = 0.24386583\n",
            "Epoch = 200 --> Loss = 1.2527657  and Error = 0.3967335\n",
            "Epoch = 210 --> Loss = 0.3054213  and Error = 0.40366673\n",
            "Epoch = 220 --> Loss = 0.29341203  and Error = 0.4205017\n",
            "Epoch = 230 --> Loss = 0.27410522  and Error = 0.7454356\n",
            "Epoch = 240 --> Loss = 0.25570688  and Error = 0.53152543\n",
            "Epoch = 250 --> Loss = 0.23737402  and Error = 0.4984431\n",
            "Epoch = 260 --> Loss = 0.39371872  and Error = 0.4520662\n",
            "Epoch = 270 --> Loss = 0.22895926  and Error = 0.4063708\n",
            "Epoch = 280 --> Loss = 0.2009929  and Error = 0.35270673\n",
            "Epoch = 290 --> Loss = 0.34978962  and Error = 0.6959532\n",
            "Epoch = 300 --> Loss = 0.26779252  and Error = 0.6661456\n",
            "Epoch = 310 --> Loss = 0.21255055  and Error = 0.45295238\n",
            "Epoch = 320 --> Loss = 0.24916957  and Error = 0.3805305\n",
            "Epoch = 330 --> Loss = 0.21854393  and Error = 0.37196258\n",
            "Epoch = 340 --> Loss = 0.19460492  and Error = 0.47046107\n",
            "Epoch = 350 --> Loss = 0.18342365  and Error = 0.59808815\n",
            "Epoch = 360 --> Loss = 0.20025884  and Error = 0.30350223\n",
            "Epoch = 370 --> Loss = 0.19058183  and Error = 0.48820803\n",
            "Epoch = 380 --> Loss = 0.19009018  and Error = 0.4037157\n",
            "Epoch = 390 --> Loss = 0.1652045  and Error = 0.38797483\n",
            "Epoch = 400 --> Loss = 0.17319189  and Error = 0.61026835\n",
            "Epoch = 410 --> Loss = 0.16037712  and Error = 0.39602274\n",
            "Epoch = 420 --> Loss = 0.46411753  and Error = 0.4509457\n",
            "Epoch = 430 --> Loss = 0.1996249  and Error = 0.4714062\n",
            "Epoch = 440 --> Loss = 0.1780037  and Error = 0.34751722\n",
            "Epoch = 450 --> Loss = 0.17596532  and Error = 0.48645186\n",
            "Epoch = 460 --> Loss = 0.1628624  and Error = 0.5134288\n",
            "Epoch = 470 --> Loss = 0.14764248  and Error = 0.4641378\n",
            "Epoch = 480 --> Loss = 0.14544831  and Error = 0.4209749\n",
            "Epoch = 490 --> Loss = 0.15762998  and Error = 0.46330652\n",
            "Epoch = 500 --> Loss = 0.96978855  and Error = 0.412656\n",
            "Computation Time = 52.22662084499995 minutes\n"
          ]
        }
      ]
    },
    {
      "cell_type": "code",
      "source": [
        "import matplotlib.pyplot as plt\n",
        "import numpy as np\n",
        "epochs = [i for i in range(1,len(losses)+1)]\n",
        "plt.yscale('log')\n",
        "plt.plot(epochs, losses)\n",
        "plt.xlabel('Epoch')\n",
        "plt.ylabel('Loss')"
      ],
      "metadata": {
        "colab": {
          "base_uri": "https://localhost:8080/",
          "height": 466
        },
        "id": "WS8koAU3iSR8",
        "outputId": "616214a0-1286-44c9-b88e-7233c72b6306"
      },
      "execution_count": null,
      "outputs": [
        {
          "output_type": "execute_result",
          "data": {
            "text/plain": [
              "Text(0, 0.5, 'Loss')"
            ]
          },
          "metadata": {},
          "execution_count": 14
        },
        {
          "output_type": "display_data",
          "data": {
            "text/plain": [
              "<Figure size 640x480 with 1 Axes>"
            ],
            "image/png": "[encoded data removed]"
          },
          "metadata": {}
        }
      ]
    },
    {
      "cell_type": "code",
      "source": [
        "plt.yscale('log')\n",
        "plt.plot(epochs, errors)\n",
        "plt.xlabel('Epoch')\n",
        "plt.ylabel('Error')"
      ],
      "metadata": {
        "colab": {
          "base_uri": "https://localhost:8080/",
          "height": 466
        },
        "id": "AvI7n3uwivP3",
        "outputId": "5aab5118-cdf8-40db-8939-4754d49627f9"
      },
      "execution_count": null,
      "outputs": [
        {
          "output_type": "execute_result",
          "data": {
            "text/plain": [
              "Text(0, 0.5, 'Error')"
            ]
          },
          "metadata": {},
          "execution_count": 15
        },
        {
          "output_type": "display_data",
          "data": {
            "text/plain": [
              "<Figure size 640x480 with 1 Axes>"
            ],
            "image/png": "[encoded data removed]"
          },
          "metadata": {}
        }
      ]
    },
    {
      "cell_type": "code",
      "source": [
        "N = 500\n",
        "xspace = np.expand_dims(np.linspace(xmin, xmax, N+1),axis=1)\n",
        "tspace = np.ones_like(xspace)*1.725\n",
        "X = tf.cast(xspace,DTYPE)\n",
        "T = tf.cast(tspace,DTYPE)\n",
        "u1p = u1model(tf.concat([T, X], axis=1))\n",
        "u2p = u2model(tf.concat([T, X], axis=1))\n",
        "spred = smodel(T)\n",
        "up = tf.where(tf.math.greater(spred,X), u1p, u2p)\n",
        "U = up.numpy()\n",
        "utrue = u_anal(T,X)\n",
        "UT = utrue.numpy()\n",
        "plt.plot(X,U,color='orange')\n",
        "plt.plot(X,UT,color='blue')\n",
        "plt.legend(['PINN Predicted','Analytical Solution'])\n",
        "plt.xlabel('x (Distance)')\n",
        "plt.ylabel('u (Temperature)')"
      ],
      "metadata": {
        "colab": {
          "base_uri": "https://localhost:8080/",
          "height": 466
        },
        "id": "8oSCw-ipi8Nc",
        "outputId": "5291fced-0abe-439e-dbcd-d4a528fe57f3"
      },
      "execution_count": null,
      "outputs": [
        {
          "output_type": "execute_result",
          "data": {
            "text/plain": [
              "Text(0, 0.5, 'u (Temperature)')"
            ]
          },
          "metadata": {},
          "execution_count": 17
        },
        {
          "output_type": "display_data",
          "data": {
            "text/plain": [
              "<Figure size 640x480 with 1 Axes>"
            ],
            "image/png": "[encoded data removed]"
          },
          "metadata": {}
        }
      ]
    },
    {
      "cell_type": "code",
      "execution_count": null,
      "metadata": {
        "id": "t4uIB9vnSKvw",
        "outputId": "f75dc698-bfad-4639-93a7-d64a509b5a6e",
        "colab": {
          "base_uri": "https://localhost:8080/"
        }
      },
      "outputs": [
        {
          "output_type": "execute_result",
          "data": {
            "text/plain": [
              "(0.32094976, 0.3044444)"
            ]
          },
          "metadata": {},
          "execution_count": 18
        }
      ],
      "source": [
        "spred.numpy()[0][0], s_anal(T).numpy()[0][0]"
      ]
    },
    {
      "cell_type": "code",
      "execution_count": null,
      "metadata": {
        "id": "Vx8LNAo23Frz",
        "outputId": "5f1e75d5-6b5b-4abc-94be-440b5e0a26c6",
        "colab": {
          "base_uri": "https://localhost:8080/",
          "height": 466
        }
      },
      "outputs": [
        {
          "output_type": "execute_result",
          "data": {
            "text/plain": [
              "Text(0, 0.5, 'c (Concentration)')"
            ]
          },
          "metadata": {},
          "execution_count": 19
        },
        {
          "output_type": "display_data",
          "data": {
            "text/plain": [
              "<Figure size 640x480 with 1 Axes>"
            ],
            "image/png": "[encoded data removed]"
          },
          "metadata": {}
        }
      ],
      "source": [
        "c1p = c1model(tf.concat([T, X], axis=1))\n",
        "c2p = c2model(tf.concat([T, X], axis=1))\n",
        "cp = tf.where(tf.math.greater(spred,X), c1p, c2p)\n",
        "C = cp.numpy()\n",
        "ctrue = c_anal(T,X)\n",
        "CT = ctrue.numpy()\n",
        "plt.plot(X,C,color='orange')\n",
        "plt.plot(X,CT,color='blue')\n",
        "plt.legend(['PINN Predicted','Analytical Solution'])\n",
        "plt.xlabel('x (Distance)')\n",
        "plt.ylabel('c (Concentration)')"
      ]
    },
    {
      "cell_type": "code",
      "execution_count": null,
      "metadata": {
        "id": "4io_arb14L0D",
        "outputId": "79a574c8-34eb-4484-898d-d0f89e1f79b4"
      },
      "outputs": [
        {
          "name": "stdout",
          "output_type": "stream",
          "text": [
            "WARNING:tensorflow:Calling GradientTape.gradient on a persistent tape inside its context is significantly less efficient than calling it outside the context (it causes the gradient ops to be recorded on the tape, leading to increased CPU and memory usage). Only call GradientTape.gradient inside the context if you actually want to trace the gradient in order to compute higher order derivatives.\n",
            "WARNING:tensorflow:Calling GradientTape.gradient on a persistent tape inside its context is significantly less efficient than calling it outside the context (it causes the gradient ops to be recorded on the tape, leading to increased CPU and memory usage). Only call GradientTape.gradient inside the context if you actually want to trace the gradient in order to compute higher order derivatives.\n",
            "WARNING:tensorflow:Calling GradientTape.gradient on a persistent tape inside its context is significantly less efficient than calling it outside the context (it causes the gradient ops to be recorded on the tape, leading to increased CPU and memory usage). Only call GradientTape.gradient inside the context if you actually want to trace the gradient in order to compute higher order derivatives.\n",
            "Epoch = 10 --> Loss = 111.91892\n",
            "Epoch = 20 --> Loss = 103.62278\n",
            "Epoch = 30 --> Loss = 94.007706\n",
            "Epoch = 40 --> Loss = 80.922844\n",
            "Epoch = 50 --> Loss = 61.83904\n",
            "Epoch = 60 --> Loss = 38.307865\n",
            "Epoch = 70 --> Loss = 18.275473\n",
            "Epoch = 80 --> Loss = 12.371324\n",
            "Epoch = 90 --> Loss = 11.1733885\n",
            "Epoch = 100 --> Loss = 8.757711\n",
            "Epoch = 110 --> Loss = 8.013213\n",
            "Epoch = 120 --> Loss = 6.5006742\n",
            "Epoch = 130 --> Loss = 6.7456737\n",
            "Epoch = 140 --> Loss = 6.270397\n",
            "Epoch = 150 --> Loss = 5.812969\n",
            "Epoch = 160 --> Loss = 5.082766\n",
            "Epoch = 170 --> Loss = 5.0386686\n",
            "Epoch = 180 --> Loss = 4.32488\n",
            "Epoch = 190 --> Loss = 4.6760454\n",
            "Epoch = 200 --> Loss = 4.4144173\n",
            "Epoch = 210 --> Loss = 3.7704635\n",
            "Epoch = 220 --> Loss = 3.5431497\n",
            "Epoch = 230 --> Loss = 3.2233624\n",
            "Epoch = 240 --> Loss = 3.1036344\n",
            "Epoch = 250 --> Loss = 2.8300805\n",
            "Epoch = 260 --> Loss = 2.8481045\n",
            "Epoch = 270 --> Loss = 2.5789547\n",
            "Epoch = 280 --> Loss = 2.2988586\n",
            "Epoch = 290 --> Loss = 2.2628338\n",
            "Epoch = 300 --> Loss = 2.1761727\n",
            "Epoch = 310 --> Loss = 2.1510084\n",
            "Epoch = 320 --> Loss = 2.0710354\n",
            "Epoch = 330 --> Loss = 1.9750477\n",
            "Epoch = 340 --> Loss = 1.9471929\n",
            "Epoch = 350 --> Loss = 1.9122504\n"
          ]
        }
      ],
      "source": [
        "# LR = 0.0001\n",
        "from time import time\n",
        "N = 500 # no of epochs or training iterations for each e\n",
        "losses = []\n",
        "t0 = time()\n",
        "tf.random.set_seed(0)\n",
        "#epsilons = [0.01,0.1,1,10,100]\n",
        "\n",
        "#for e in epsilons:\n",
        "    #print('Looping for epsilon = '+str(e)+' ...')\n",
        "for i in range(1,N+1):\n",
        "    xc = tf.random.uniform((Nx,1), xmin, xmax, dtype=DTYPE) # uniformly sample bwn xmin and xmax\n",
        "    times = tf.random.uniform((Nt,1), tmin, tmax, dtype=DTYPE) # uniformly sample bwn tmin and tmax\n",
        "    loss, weights = train_step(xc, times)\n",
        "    losses.append(loss.numpy())\n",
        "    if i%10==0:\n",
        "        print('Epoch = '+str(i)+' --> Loss = '+str(loss.numpy()))\n",
        "\n",
        "print('Final Loss = '+str(losses[-1]))\n",
        "print('Computation Time = {} minutes'.format((time()-t0)/60))"
      ]
    },
    {
      "cell_type": "code",
      "execution_count": null,
      "metadata": {
        "id": "goQszhUC4L0E",
        "outputId": "a6df10df-01c0-46a4-8f88-1f50641fdc5e"
      },
      "outputs": [
        {
          "name": "stdout",
          "output_type": "stream",
          "text": [
            "WARNING:tensorflow:Calling GradientTape.gradient on a persistent tape inside its context is significantly less efficient than calling it outside the context (it causes the gradient ops to be recorded on the tape, leading to increased CPU and memory usage). Only call GradientTape.gradient inside the context if you actually want to trace the gradient in order to compute higher order derivatives.\n",
            "WARNING:tensorflow:Calling GradientTape.gradient on a persistent tape inside its context is significantly less efficient than calling it outside the context (it causes the gradient ops to be recorded on the tape, leading to increased CPU and memory usage). Only call GradientTape.gradient inside the context if you actually want to trace the gradient in order to compute higher order derivatives.\n",
            "WARNING:tensorflow:Calling GradientTape.gradient on a persistent tape inside its context is significantly less efficient than calling it outside the context (it causes the gradient ops to be recorded on the tape, leading to increased CPU and memory usage). Only call GradientTape.gradient inside the context if you actually want to trace the gradient in order to compute higher order derivatives.\n",
            "Epoch = 10 --> Loss = 103.29921\n",
            "Epoch = 20 --> Loss = 156.358\n",
            "Epoch = 30 --> Loss = 82.53522\n",
            "Epoch = 40 --> Loss = 6.8103666\n",
            "Epoch = 50 --> Loss = 4.680705\n",
            "Epoch = 60 --> Loss = 4.086816\n",
            "Epoch = 70 --> Loss = 2.927535\n",
            "Epoch = 80 --> Loss = 2.503396\n",
            "Epoch = 90 --> Loss = 1.8394053\n",
            "Epoch = 100 --> Loss = 1.5390468\n",
            "Epoch = 110 --> Loss = 9.423834\n",
            "Epoch = 120 --> Loss = 1.4886949\n",
            "Epoch = 130 --> Loss = 50.226704\n",
            "Epoch = 140 --> Loss = 36.60953\n",
            "Epoch = 150 --> Loss = 28.39756\n",
            "Epoch = 160 --> Loss = 15.854148\n",
            "Epoch = 170 --> Loss = 6.69761\n",
            "Epoch = 180 --> Loss = 5.832824\n",
            "Epoch = 190 --> Loss = 3.6215158\n",
            "Epoch = 200 --> Loss = 2.5791883\n",
            "Epoch = 210 --> Loss = 1.4423383\n",
            "Epoch = 220 --> Loss = 0.6908425\n",
            "Epoch = 230 --> Loss = 0.88954085\n",
            "Epoch = 240 --> Loss = 0.81909114\n",
            "Epoch = 250 --> Loss = 0.73261154\n",
            "Epoch = 260 --> Loss = 0.6327525\n",
            "Epoch = 270 --> Loss = 0.63417244\n",
            "Epoch = 280 --> Loss = 0.732077\n",
            "Epoch = 290 --> Loss = 0.71151614\n",
            "Epoch = 300 --> Loss = 0.66359484\n",
            "Epoch = 310 --> Loss = 0.630257\n",
            "Epoch = 320 --> Loss = 0.6392975\n"
          ]
        }
      ],
      "source": [
        "# LR = 0.001\n",
        "from time import time\n",
        "N = 500 # no of epochs or training iterations for each e\n",
        "losses = []\n",
        "t0 = time()\n",
        "tf.random.set_seed(0)\n",
        "#epsilons = [0.01,0.1,1,10,100]\n",
        "\n",
        "#for e in epsilons:\n",
        "    #print('Looping for epsilon = '+str(e)+' ...')\n",
        "for i in range(1,N+1):\n",
        "    xc = tf.random.uniform((Nx,1), xmin, xmax, dtype=DTYPE) # uniformly sample bwn xmin and xmax\n",
        "    times = tf.random.uniform((Nt,1), tmin, tmax, dtype=DTYPE) # uniformly sample bwn tmin and tmax\n",
        "    loss, weights = train_step(xc, times)\n",
        "    losses.append(loss.numpy())\n",
        "    if i%10==0:\n",
        "        print('Epoch = '+str(i)+' --> Loss = '+str(loss.numpy()))\n",
        "\n",
        "print('Final Loss = '+str(losses[-1]))\n",
        "print('Computation Time = {} minutes'.format((time()-t0)/60))"
      ]
    },
    {
      "cell_type": "code",
      "execution_count": null,
      "metadata": {
        "id": "-N0VQb8e4L0E",
        "outputId": "539bb703-4baf-4dbf-a48d-4cd33d71e143"
      },
      "outputs": [
        {
          "name": "stdout",
          "output_type": "stream",
          "text": [
            "Looping for epsilon = 0.01 ...\n",
            "WARNING:tensorflow:Calling GradientTape.gradient on a persistent tape inside its context is significantly less efficient than calling it outside the context (it causes the gradient ops to be recorded on the tape, leading to increased CPU and memory usage). Only call GradientTape.gradient inside the context if you actually want to trace the gradient in order to compute higher order derivatives.\n",
            "WARNING:tensorflow:Calling GradientTape.gradient on a persistent tape inside its context is significantly less efficient than calling it outside the context (it causes the gradient ops to be recorded on the tape, leading to increased CPU and memory usage). Only call GradientTape.gradient inside the context if you actually want to trace the gradient in order to compute higher order derivatives.\n",
            "WARNING:tensorflow:Calling GradientTape.gradient on a persistent tape inside its context is significantly less efficient than calling it outside the context (it causes the gradient ops to be recorded on the tape, leading to increased CPU and memory usage). Only call GradientTape.gradient inside the context if you actually want to trace the gradient in order to compute higher order derivatives.\n",
            "   Epoch = 10 --> Loss = 68.52455\n",
            "   Epoch = 20 --> Loss = 650.2027\n",
            "   Epoch = 30 --> Loss = 123.48941\n",
            "   Epoch = 40 --> Loss = 5.7109017\n",
            "   Epoch = 50 --> Loss = 4.598176\n",
            "   Epoch = 60 --> Loss = 4.201915\n",
            "   Epoch = 70 --> Loss = 3.748523\n",
            "   Epoch = 80 --> Loss = 3.3603055\n",
            "   Epoch = 90 --> Loss = 2.9420464\n",
            "   Epoch = 100 --> Loss = 2.4981558\n",
            "Looping for epsilon = 0.1 ...\n",
            "   Epoch = 10 --> Loss = 102.61027\n",
            "   Epoch = 20 --> Loss = 86.46077\n",
            "   Epoch = 30 --> Loss = 124.450066\n",
            "   Epoch = 40 --> Loss = 71.788\n",
            "   Epoch = 50 --> Loss = 66.52281\n",
            "   Epoch = 60 --> Loss = 68.97779\n",
            "   Epoch = 70 --> Loss = 57.80754\n",
            "   Epoch = 80 --> Loss = 59.598972\n",
            "   Epoch = 90 --> Loss = 52.993473\n",
            "   Epoch = 100 --> Loss = 51.923447\n",
            "Looping for epsilon = 1 ...\n",
            "   Epoch = 10 --> Loss = 46.191853\n",
            "   Epoch = 20 --> Loss = 40.99925\n",
            "   Epoch = 30 --> Loss = 38.63402\n",
            "   Epoch = 40 --> Loss = 39.656483\n",
            "   Epoch = 50 --> Loss = 35.9275\n",
            "   Epoch = 60 --> Loss = 3.0334392\n",
            "   Epoch = 70 --> Loss = 13.377194\n",
            "   Epoch = 80 --> Loss = 32.875042\n",
            "   Epoch = 90 --> Loss = 30.935354\n",
            "   Epoch = 100 --> Loss = 28.802595\n",
            "Looping for epsilon = 10 ...\n",
            "   Epoch = 10 --> Loss = 27.006033\n",
            "   Epoch = 20 --> Loss = 8.200766\n",
            "   Epoch = 30 --> Loss = 24.350042\n",
            "   Epoch = 40 --> Loss = 23.174173\n",
            "   Epoch = 50 --> Loss = 21.886374\n",
            "   Epoch = 60 --> Loss = 20.541286\n",
            "   Epoch = 70 --> Loss = 19.23564\n",
            "   Epoch = 80 --> Loss = 21.552593\n"
          ]
        }
      ],
      "source": [
        "# LR = 0.001\n",
        "from time import time\n",
        "N = 100 # no of epochs or training iterations for each e\n",
        "delta = 0.99\n",
        "losses = []\n",
        "t0 = time()\n",
        "tf.random.set_seed(0)\n",
        "epsilons = [0.01,0.1,1,10,100]\n",
        "\n",
        "for e in epsilons:\n",
        "    print('Looping for epsilon = '+str(e)+' ...')\n",
        "    for i in range(1,N+1):\n",
        "        xc = tf.random.uniform((Nx,1), xmin, xmax, dtype=DTYPE) # uniformly sample bwn xmin and xmax\n",
        "        times = tf.random.uniform((Nt,1), tmin, tmax, dtype=DTYPE) # uniformly sample bwn tmin and tmax\n",
        "        loss, weights = train_step(xc, times, e)\n",
        "        losses.append(loss.numpy())\n",
        "        if i%10==0:\n",
        "            print('   Epoch = '+str(i)+' --> Loss = '+str(loss.numpy()))\n",
        "        if tf.math.reduce_min(weights).numpy()>delta:\n",
        "            break\n",
        "\n",
        "print('Final Loss = '+str(losses[-1]))\n",
        "print('Computation Time = {} minutes'.format((time()-t0)/60))"
      ]
    },
    {
      "cell_type": "code",
      "execution_count": null,
      "metadata": {
        "id": "pN5sRPYs4L0E",
        "outputId": "bcc8983b-0d2b-4490-ee60-4f1fc101e3ed"
      },
      "outputs": [
        {
          "name": "stdout",
          "output_type": "stream",
          "text": [
            "WARNING:tensorflow:Calling GradientTape.gradient on a persistent tape inside its context is significantly less efficient than calling it outside the context (it causes the gradient ops to be recorded on the tape, leading to increased CPU and memory usage). Only call GradientTape.gradient inside the context if you actually want to trace the gradient in order to compute higher order derivatives.\n",
            "WARNING:tensorflow:Calling GradientTape.gradient on a persistent tape inside its context is significantly less efficient than calling it outside the context (it causes the gradient ops to be recorded on the tape, leading to increased CPU and memory usage). Only call GradientTape.gradient inside the context if you actually want to trace the gradient in order to compute higher order derivatives.\n",
            "WARNING:tensorflow:Calling GradientTape.gradient on a persistent tape inside its context is significantly less efficient than calling it outside the context (it causes the gradient ops to be recorded on the tape, leading to increased CPU and memory usage). Only call GradientTape.gradient inside the context if you actually want to trace the gradient in order to compute higher order derivatives.\n",
            "Epoch = 10 --> Loss = 70.026855\n",
            "Epoch = 20 --> Loss = 27.781273\n",
            "Epoch = 30 --> Loss = 6.5605187\n",
            "Epoch = 40 --> Loss = 4.538131\n",
            "Epoch = 50 --> Loss = 3.454031\n",
            "Epoch = 60 --> Loss = 2.8539188\n",
            "Epoch = 70 --> Loss = 3.4110289\n",
            "Epoch = 80 --> Loss = 2.2716053\n",
            "Epoch = 90 --> Loss = 1.9412854\n",
            "Epoch = 100 --> Loss = 1.8142481\n",
            "Epoch = 110 --> Loss = 1.3536463\n",
            "Epoch = 120 --> Loss = 1.4183996\n",
            "Epoch = 130 --> Loss = 1.3115295\n",
            "Epoch = 140 --> Loss = 1.1590331\n",
            "Epoch = 150 --> Loss = 1.174088\n",
            "Epoch = 160 --> Loss = 0.9888044\n",
            "Epoch = 170 --> Loss = 0.88855845\n",
            "Epoch = 180 --> Loss = 0.8246505\n",
            "Epoch = 190 --> Loss = 0.77416104\n",
            "Epoch = 200 --> Loss = 0.7264333\n",
            "Final Loss = 0.7264333\n",
            "Computation Time = 531.5055154124896 minutes\n"
          ]
        }
      ],
      "source": [
        "# LR = 0.001\n",
        "from time import time\n",
        "N = 200 # no of epochs or training iterations\n",
        "losses = []\n",
        "t0 = time()\n",
        "\n",
        "for i in range(1,N+1):\n",
        "    xc = tf.random.uniform((Nx,1), xmin, xmax, dtype=DTYPE) # uniformly sample bwn xmin and xmax\n",
        "    times = tf.random.uniform((Nt,1), tmin, tmax, dtype=DTYPE) # uniformly sample bwn tmin and tmax\n",
        "    loss, weights = train_step(xc, times)\n",
        "    losses.append(loss.numpy())\n",
        "    if i%10==0:\n",
        "        print('Epoch = '+str(i)+' --> Loss = '+str(loss.numpy()))\n",
        "\n",
        "print('Final Loss = '+str(losses[-1]))\n",
        "print('Computation Time = {} minutes'.format((time()-t0)/60))"
      ]
    },
    {
      "cell_type": "markdown",
      "metadata": {
        "id": "W9VDbSV74L0E"
      },
      "source": [
        "No oscillations yet, run for more epochs"
      ]
    },
    {
      "cell_type": "code",
      "execution_count": null,
      "metadata": {
        "colab": {
          "base_uri": "https://localhost:8080/",
          "height": 453
        },
        "id": "kcj2RjDqocS9",
        "outputId": "a195df2c-5fe6-4135-9481-c316b737dd27"
      },
      "outputs": [
        {
          "name": "stdout",
          "output_type": "stream",
          "text": [
            "WARNING:tensorflow:Calling GradientTape.gradient on a persistent tape inside its context is significantly less efficient than calling it outside the context (it causes the gradient ops to be recorded on the tape, leading to increased CPU and memory usage). Only call GradientTape.gradient inside the context if you actually want to trace the gradient in order to compute higher order derivatives.\n",
            "WARNING:tensorflow:Calling GradientTape.gradient on a persistent tape inside its context is significantly less efficient than calling it outside the context (it causes the gradient ops to be recorded on the tape, leading to increased CPU and memory usage). Only call GradientTape.gradient inside the context if you actually want to trace the gradient in order to compute higher order derivatives.\n",
            "WARNING:tensorflow:Calling GradientTape.gradient on a persistent tape inside its context is significantly less efficient than calling it outside the context (it causes the gradient ops to be recorded on the tape, leading to increased CPU and memory usage). Only call GradientTape.gradient inside the context if you actually want to trace the gradient in order to compute higher order derivatives.\n",
            "Epoch = 10 --> Loss = 255.72337\n",
            "Epoch = 20 --> Loss = 8.550247\n",
            "Epoch = 30 --> Loss = 181.01701\n",
            "Epoch = 40 --> Loss = 2.0811286\n",
            "Epoch = 50 --> Loss = 1.4292207\n",
            "Epoch = 60 --> Loss = 0.934685\n",
            "Epoch = 70 --> Loss = 62.510414\n",
            "Epoch = 80 --> Loss = 68.598526\n",
            "Epoch = 90 --> Loss = 51.348022\n",
            "Epoch = 100 --> Loss = 37.841755\n",
            "Epoch = 110 --> Loss = 32.707832\n",
            "Epoch = 120 --> Loss = 29.555328\n",
            "Epoch = 130 --> Loss = 18.953934\n",
            "Epoch = 140 --> Loss = 13.121825\n",
            "Epoch = 150 --> Loss = 9.012226\n",
            "Epoch = 160 --> Loss = 9.704497\n",
            "Epoch = 170 --> Loss = 8.704591\n",
            "Epoch = 180 --> Loss = 3.0685081\n",
            "Epoch = 190 --> Loss = 1.2076814\n",
            "Epoch = 200 --> Loss = 46.616222\n",
            "Final Loss = 46.616222\n",
            "Computation Time = 366.3992019891739 minutes\n"
          ]
        }
      ],
      "source": [
        "# LR = 0.01\n",
        "from time import time\n",
        "N = 200 # no of epochs or training iterations\n",
        "losses = []\n",
        "t0 = time()\n",
        "\n",
        "for i in range(1,N+1):\n",
        "    xc = tf.random.uniform((Nx,1), xmin, xmax, dtype=DTYPE) # uniformly sample bwn xmin and xmax\n",
        "    times = tf.random.uniform((Nt,1), tmin, tmax, dtype=DTYPE) # uniformly sample bwn tmin and tmax\n",
        "    loss, weights = train_step(xc, times)\n",
        "    losses.append(loss.numpy())\n",
        "    if i%10==0:\n",
        "        print('Epoch = '+str(i)+' --> Loss = '+str(loss.numpy()))\n",
        "\n",
        "print('Final Loss = '+str(losses[-1]))\n",
        "print('Computation Time = {} minutes'.format((time()-t0)/60))"
      ]
    }
  ],
  "metadata": {
    "accelerator": "GPU",
    "colab": {
      "collapsed_sections": [
        "YS3VdOeSJOn4"
      ],
      "provenance": []
    },
    "gpuClass": "standard",
    "kernelspec": {
      "display_name": "gpu",
      "language": "python",
      "name": "gpu"
    },
    "language_info": {
      "codemirror_mode": {
        "name": "ipython",
        "version": 3
      },
      "file_extension": ".py",
      "mimetype": "text/x-python",
      "name": "python",
      "nbconvert_exporter": "python",
      "pygments_lexer": "ipython3",
      "version": "3.10.9"
    }
  },
  "nbformat": 4,
  "nbformat_minor": 0
}